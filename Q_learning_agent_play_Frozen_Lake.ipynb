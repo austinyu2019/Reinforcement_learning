{
  "nbformat": 4,
  "nbformat_minor": 0,
  "metadata": {
    "colab": {
      "name": " Q-learning_agent_play_Frozen_Lake.ipynb",
      "provenance": [],
      "collapsed_sections": []
    },
    "kernelspec": {
      "name": "python3",
      "display_name": "Python 3"
    },
    "accelerator": "GPU"
  },
  "cells": [
    {
      "cell_type": "code",
      "metadata": {
        "id": "eUdxyV1nPykH",
        "colab_type": "code",
        "colab": {}
      },
      "source": [
        "import numpy as np\n",
        "import gym\n",
        "import random\n",
        "import time\n",
        "from IPython.display import clear_output"
      ],
      "execution_count": 0,
      "outputs": []
    },
    {
      "cell_type": "code",
      "metadata": {
        "id": "yh-EqMbbP53q",
        "colab_type": "code",
        "colab": {}
      },
      "source": [
        "env = gym.make(\"FrozenLake-v0\")"
      ],
      "execution_count": 0,
      "outputs": []
    },
    {
      "cell_type": "code",
      "metadata": {
        "id": "z0_aBheuP56w",
        "colab_type": "code",
        "colab": {}
      },
      "source": [
        "action_space_size = env.action_space.n\n",
        "state_space_size = env.observation_space.n\n",
        "\n",
        "q_table = np.zeros((state_space_size, action_space_size))"
      ],
      "execution_count": 0,
      "outputs": []
    },
    {
      "cell_type": "code",
      "metadata": {
        "id": "tIousR3mP59M",
        "colab_type": "code",
        "outputId": "1b9204ac-3f1f-433f-a24e-6f990d4cd6e2",
        "colab": {
          "base_uri": "https://localhost:8080/",
          "height": 34
        }
      },
      "source": [
        "action_space_size"
      ],
      "execution_count": 4,
      "outputs": [
        {
          "output_type": "execute_result",
          "data": {
            "text/plain": [
              "4"
            ]
          },
          "metadata": {
            "tags": []
          },
          "execution_count": 4
        }
      ]
    },
    {
      "cell_type": "code",
      "metadata": {
        "id": "MDARUd1CQG5L",
        "colab_type": "code",
        "outputId": "313dfcb6-e705-44c0-c2a7-b20c325807f3",
        "colab": {
          "base_uri": "https://localhost:8080/",
          "height": 34
        }
      },
      "source": [
        "state_space_size"
      ],
      "execution_count": 5,
      "outputs": [
        {
          "output_type": "execute_result",
          "data": {
            "text/plain": [
              "16"
            ]
          },
          "metadata": {
            "tags": []
          },
          "execution_count": 5
        }
      ]
    },
    {
      "cell_type": "code",
      "metadata": {
        "id": "xW59hs71QG79",
        "colab_type": "code",
        "outputId": "ef359e35-4057-48af-910b-2ca90d2669e1",
        "colab": {
          "base_uri": "https://localhost:8080/",
          "height": 289
        }
      },
      "source": [
        "q_table"
      ],
      "execution_count": 6,
      "outputs": [
        {
          "output_type": "execute_result",
          "data": {
            "text/plain": [
              "array([[0., 0., 0., 0.],\n",
              "       [0., 0., 0., 0.],\n",
              "       [0., 0., 0., 0.],\n",
              "       [0., 0., 0., 0.],\n",
              "       [0., 0., 0., 0.],\n",
              "       [0., 0., 0., 0.],\n",
              "       [0., 0., 0., 0.],\n",
              "       [0., 0., 0., 0.],\n",
              "       [0., 0., 0., 0.],\n",
              "       [0., 0., 0., 0.],\n",
              "       [0., 0., 0., 0.],\n",
              "       [0., 0., 0., 0.],\n",
              "       [0., 0., 0., 0.],\n",
              "       [0., 0., 0., 0.],\n",
              "       [0., 0., 0., 0.],\n",
              "       [0., 0., 0., 0.]])"
            ]
          },
          "metadata": {
            "tags": []
          },
          "execution_count": 6
        }
      ]
    },
    {
      "cell_type": "code",
      "metadata": {
        "id": "mK9Yupf7QG-r",
        "colab_type": "code",
        "colab": {}
      },
      "source": [
        "num_episodes = 10000\n",
        "max_steps_per_episode = 100\n",
        "\n",
        "learning_rate = 0.1\n",
        "discount_rate = 0.99\n",
        "\n",
        "exploration_rate = 1\n",
        "max_exploration_rate = 1\n",
        "min_exploration_rate = 0.01\n",
        "exploration_decay_rate = 0.003"
      ],
      "execution_count": 0,
      "outputs": []
    },
    {
      "cell_type": "code",
      "metadata": {
        "id": "SJ3TVpSrQHBX",
        "colab_type": "code",
        "outputId": "f0a9e40f-8dd7-4d2a-b08d-b2821141cb0c",
        "colab": {
          "base_uri": "https://localhost:8080/",
          "height": 561
        }
      },
      "source": [
        "rewards_all_episodes = []\n",
        "# Q-learning algorithm\n",
        "for episode in range(num_episodes):\n",
        "    state = env.reset()\n",
        "    done = False\n",
        "    rewards_current_episode = 0\n",
        "\n",
        "    for step in range(max_steps_per_episode): \n",
        "      # Exploration-exploitation trade-off\n",
        "      exploration_rate_threshold = random.uniform(0, 1)\n",
        "      if exploration_rate_threshold > exploration_rate:\n",
        "          action = np.argmax(q_table[state,:]) \n",
        "      else:\n",
        "          action = env.action_space.sample()  \n",
        "\n",
        "      new_state, reward, done, info = env.step(action)\n",
        "      # Update Q-table for Q(s,a)\n",
        "      q_table[state, action] = q_table[state, action] * (1 - learning_rate) + \\\n",
        "          learning_rate * (reward + discount_rate * np.max(q_table[new_state, :]))  \n",
        "\n",
        "      state = new_state\n",
        "      rewards_current_episode += reward   \n",
        "      if done == True: \n",
        "        break\n",
        "        \n",
        "        # Exploration rate decay\n",
        "    exploration_rate = min_exploration_rate + \\\n",
        "        (max_exploration_rate - min_exploration_rate) * np.exp(-exploration_decay_rate*episode)\n",
        "    rewards_all_episodes.append(rewards_current_episode)\n",
        "        # Exploration rate decay   \n",
        "        # Add current episode reward to total rewards list\n",
        "\n",
        "# Calculate and print the average reward per thousand episodes\n",
        "rewards_per_thosand_episodes = np.split(np.array(rewards_all_episodes),num_episodes/1000)\n",
        "count = 1000\n",
        "\n",
        "print(\"********Average reward per thousand episodes********\\n\")\n",
        "for r in rewards_per_thosand_episodes:\n",
        "  print(count, \": \", str(sum(r/1000)))\n",
        "  count += 1000\n",
        "\n",
        "# Print updated Q-table\n",
        "print(\"\\n\\n********Q-table********\\n\")\n",
        "print(q_table)"
      ],
      "execution_count": 8,
      "outputs": [
        {
          "output_type": "stream",
          "text": [
            "********Average reward per thousand episodes********\n",
            "\n",
            "1000 :  0.16800000000000012\n",
            "2000 :  0.5720000000000004\n",
            "3000 :  0.6380000000000005\n",
            "4000 :  0.6760000000000005\n",
            "5000 :  0.6680000000000005\n",
            "6000 :  0.6730000000000005\n",
            "7000 :  0.6610000000000005\n",
            "8000 :  0.7000000000000005\n",
            "9000 :  0.6770000000000005\n",
            "10000 :  0.6810000000000005\n",
            "\n",
            "\n",
            "********Q-table********\n",
            "\n",
            "[[5.92935387e-01 5.07410159e-01 4.92562340e-01 5.02919125e-01]\n",
            " [9.53219518e-02 1.99608655e-01 1.52489411e-01 4.58574183e-01]\n",
            " [3.99436227e-01 1.88422971e-01 1.45887432e-01 1.91959252e-01]\n",
            " [4.71570386e-04 2.97651564e-02 1.25986806e-04 2.04889412e-04]\n",
            " [6.07517675e-01 2.61300665e-01 3.41843260e-01 3.66578731e-01]\n",
            " [0.00000000e+00 0.00000000e+00 0.00000000e+00 0.00000000e+00]\n",
            " [1.53271036e-01 1.15690596e-01 3.13659218e-01 8.92018950e-02]\n",
            " [0.00000000e+00 0.00000000e+00 0.00000000e+00 0.00000000e+00]\n",
            " [2.84890257e-01 4.12905642e-01 3.09332989e-01 6.47350123e-01]\n",
            " [3.71619177e-01 7.26103082e-01 4.49759541e-01 4.89629003e-01]\n",
            " [7.40401038e-01 3.69472498e-01 3.51328541e-01 2.70587660e-01]\n",
            " [0.00000000e+00 0.00000000e+00 0.00000000e+00 0.00000000e+00]\n",
            " [0.00000000e+00 0.00000000e+00 0.00000000e+00 0.00000000e+00]\n",
            " [3.47171586e-01 4.36643382e-01 8.09819064e-01 5.11828887e-01]\n",
            " [7.33872008e-01 9.01034329e-01 7.61402279e-01 7.36660846e-01]\n",
            " [0.00000000e+00 0.00000000e+00 0.00000000e+00 0.00000000e+00]]\n"
          ],
          "name": "stdout"
        }
      ]
    },
    {
      "cell_type": "code",
      "metadata": {
        "id": "g0iomXyRP6AN",
        "colab_type": "code",
        "outputId": "0b830198-8629-4300-c970-0be58434683f",
        "colab": {
          "base_uri": "https://localhost:8080/",
          "height": 119
        }
      },
      "source": [
        "# Watch our agent play Frozen Lake by playing the best action \n",
        "# from each state according to the Q-table\n",
        "\n",
        "for episode in range(3):\n",
        "    state = env.reset()\n",
        "    done = False\n",
        "    print(\"*****EPISODE \", episode+1, \"*****\\n\\n\\n\\n\")\n",
        "    time.sleep(1)\n",
        "\n",
        "    for step in range(max_steps_per_episode):        \n",
        "        clear_output(wait=True)\n",
        "        env.render()\n",
        "        time.sleep(0.3)\n",
        "\n",
        "        action = np.argmax(q_table[state,:])        \n",
        "        new_state, reward, done, info = env.step(action)\n",
        "              \n",
        "        if done:\n",
        "          clear_output(wait=True)\n",
        "          env.render()\n",
        "          if reward == 1:\n",
        "              print(\"****You reached the goal!****\")\n",
        "              time.sleep(3)\n",
        "          else:\n",
        "              print(\"****You fell through a hole!****\")\n",
        "              time.sleep(3)\n",
        "              clear_output(wait=True)\n",
        "          break   \n",
        "        state = new_state     \n",
        "            \n",
        "        # Set new state\n",
        "        \n",
        "env.close()"
      ],
      "execution_count": 9,
      "outputs": [
        {
          "output_type": "stream",
          "text": [
            "  (Down)\n",
            "SFFF\n",
            "FHFH\n",
            "FFFH\n",
            "HFF\u001b[41mG\u001b[0m\n",
            "****You reached the goal!****\n"
          ],
          "name": "stdout"
        }
      ]
    }
  ]
}